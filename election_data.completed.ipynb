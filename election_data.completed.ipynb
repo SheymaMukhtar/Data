{
 "cells": [
  {
   "cell_type": "code",
   "execution_count": 1,
   "id": "8324156e",
   "metadata": {},
   "outputs": [
    {
     "data": {
      "text/html": [
       "<div>\n",
       "<style scoped>\n",
       "    .dataframe tbody tr th:only-of-type {\n",
       "        vertical-align: middle;\n",
       "    }\n",
       "\n",
       "    .dataframe tbody tr th {\n",
       "        vertical-align: top;\n",
       "    }\n",
       "\n",
       "    .dataframe thead th {\n",
       "        text-align: right;\n",
       "    }\n",
       "</style>\n",
       "<table border=\"1\" class=\"dataframe\">\n",
       "  <thead>\n",
       "    <tr style=\"text-align: right;\">\n",
       "      <th></th>\n",
       "      <th>Ballot ID</th>\n",
       "      <th>County</th>\n",
       "      <th>Candidate</th>\n",
       "    </tr>\n",
       "  </thead>\n",
       "  <tbody>\n",
       "    <tr>\n",
       "      <th>0</th>\n",
       "      <td>1323913</td>\n",
       "      <td>Jefferson</td>\n",
       "      <td>Charles Casper Stockham</td>\n",
       "    </tr>\n",
       "    <tr>\n",
       "      <th>1</th>\n",
       "      <td>1005842</td>\n",
       "      <td>Jefferson</td>\n",
       "      <td>Charles Casper Stockham</td>\n",
       "    </tr>\n",
       "    <tr>\n",
       "      <th>2</th>\n",
       "      <td>1880345</td>\n",
       "      <td>Jefferson</td>\n",
       "      <td>Charles Casper Stockham</td>\n",
       "    </tr>\n",
       "    <tr>\n",
       "      <th>3</th>\n",
       "      <td>1600337</td>\n",
       "      <td>Jefferson</td>\n",
       "      <td>Charles Casper Stockham</td>\n",
       "    </tr>\n",
       "    <tr>\n",
       "      <th>4</th>\n",
       "      <td>1835994</td>\n",
       "      <td>Jefferson</td>\n",
       "      <td>Charles Casper Stockham</td>\n",
       "    </tr>\n",
       "    <tr>\n",
       "      <th>...</th>\n",
       "      <td>...</td>\n",
       "      <td>...</td>\n",
       "      <td>...</td>\n",
       "    </tr>\n",
       "    <tr>\n",
       "      <th>369706</th>\n",
       "      <td>4714953</td>\n",
       "      <td>Arapahoe</td>\n",
       "      <td>Raymon Anthony Doane</td>\n",
       "    </tr>\n",
       "    <tr>\n",
       "      <th>369707</th>\n",
       "      <td>4497542</td>\n",
       "      <td>Arapahoe</td>\n",
       "      <td>Raymon Anthony Doane</td>\n",
       "    </tr>\n",
       "    <tr>\n",
       "      <th>369708</th>\n",
       "      <td>4085849</td>\n",
       "      <td>Arapahoe</td>\n",
       "      <td>Raymon Anthony Doane</td>\n",
       "    </tr>\n",
       "    <tr>\n",
       "      <th>369709</th>\n",
       "      <td>4592018</td>\n",
       "      <td>Arapahoe</td>\n",
       "      <td>Raymon Anthony Doane</td>\n",
       "    </tr>\n",
       "    <tr>\n",
       "      <th>369710</th>\n",
       "      <td>4660518</td>\n",
       "      <td>Arapahoe</td>\n",
       "      <td>Raymon Anthony Doane</td>\n",
       "    </tr>\n",
       "  </tbody>\n",
       "</table>\n",
       "<p>369711 rows × 3 columns</p>\n",
       "</div>"
      ],
      "text/plain": [
       "        Ballot ID     County                Candidate\n",
       "0         1323913  Jefferson  Charles Casper Stockham\n",
       "1         1005842  Jefferson  Charles Casper Stockham\n",
       "2         1880345  Jefferson  Charles Casper Stockham\n",
       "3         1600337  Jefferson  Charles Casper Stockham\n",
       "4         1835994  Jefferson  Charles Casper Stockham\n",
       "...           ...        ...                      ...\n",
       "369706    4714953   Arapahoe     Raymon Anthony Doane\n",
       "369707    4497542   Arapahoe     Raymon Anthony Doane\n",
       "369708    4085849   Arapahoe     Raymon Anthony Doane\n",
       "369709    4592018   Arapahoe     Raymon Anthony Doane\n",
       "369710    4660518   Arapahoe     Raymon Anthony Doane\n",
       "\n",
       "[369711 rows x 3 columns]"
      ]
     },
     "execution_count": 1,
     "metadata": {},
     "output_type": "execute_result"
    }
   ],
   "source": [
    "import pandas as pd\n",
    "\n",
    "# Read the CSV file into a DataFrame\n",
    "df = pd.read_csv(\"election_data.csv\")\n",
    "\n",
    "# Display the DataFrame\n",
    "df\n"
   ]
  },
  {
   "cell_type": "code",
   "execution_count": 2,
   "id": "783e0215",
   "metadata": {},
   "outputs": [
    {
     "name": "stdout",
     "output_type": "stream",
     "text": [
      "Total number of votes cast: 369711\n"
     ]
    }
   ],
   "source": [
    "# Calculate the total number of votes cast\n",
    "total_votes_cast = len(df)\n",
    "\n",
    "# Display the total number of votes cast\n",
    "print(\"Total number of votes cast:\", total_votes_cast)"
   ]
  },
  {
   "cell_type": "code",
   "execution_count": 3,
   "id": "0f55cf42",
   "metadata": {},
   "outputs": [
    {
     "name": "stdout",
     "output_type": "stream",
     "text": [
      "List of candidates who received votes:\n",
      "Charles Casper Stockham\n",
      "Diana DeGette\n",
      "Raymon Anthony Doane\n"
     ]
    }
   ],
   "source": [
    "# Extract the list of candidates who received votes\n",
    "candidates_list = df[\"Candidate\"].unique()\n",
    "\n",
    "# Display the list of candidates\n",
    "print(\"List of candidates who received votes:\")\n",
    "for candidate in candidates_list:\n",
    "    print(candidate)"
   ]
  },
  {
   "cell_type": "code",
   "execution_count": 4,
   "id": "160792e1",
   "metadata": {},
   "outputs": [
    {
     "name": "stdout",
     "output_type": "stream",
     "text": [
      "Percentage of votes each candidate won:\n",
      "Diana DeGette: 73.812%\n",
      "Charles Casper Stockham: 23.049%\n",
      "Raymon Anthony Doane: 3.139%\n"
     ]
    }
   ],
   "source": [
    "total_votes_cast = len(df)\n",
    "\n",
    "candidate_votes = df[\"Candidate\"].value_counts()\n",
    "\n",
    "percentage_votes = (candidate_votes / total_votes_cast) * 100\n",
    "\n",
    "print(\"Percentage of votes each candidate won:\")\n",
    "for candidate, percentage in percentage_votes.items():\n",
    "    print(f\"{candidate}: {percentage:.3f}%\")"
   ]
  },
  {
   "cell_type": "code",
   "execution_count": 5,
   "id": "d323b7de",
   "metadata": {},
   "outputs": [
    {
     "name": "stdout",
     "output_type": "stream",
     "text": [
      "Total number of votes each candidate won:\n",
      "Candidate\n",
      "Diana DeGette              272892\n",
      "Charles Casper Stockham     85213\n",
      "Raymon Anthony Doane        11606\n",
      "Name: count, dtype: int64\n"
     ]
    }
   ],
   "source": [
    "candidate_votes = df[\"Candidate\"].value_counts()\n",
    "\n",
    "print(\"Total number of votes each candidate won:\")\n",
    "print(candidate_votes)"
   ]
  },
  {
   "cell_type": "code",
   "execution_count": 6,
   "id": "43849732",
   "metadata": {},
   "outputs": [
    {
     "name": "stdout",
     "output_type": "stream",
     "text": [
      "Winner of the election based on popular vote: Diana DeGette\n"
     ]
    }
   ],
   "source": [
    "candidate_votes = df[\"Candidate\"].value_counts()\n",
    "\n",
    "winner = candidate_votes.idxmax()\n",
    "\n",
    "print(\"Winner of the election based on popular vote:\", winner)"
   ]
  },
  {
   "cell_type": "code",
   "execution_count": 7,
   "id": "521cfe96",
   "metadata": {},
   "outputs": [
    {
     "name": "stdout",
     "output_type": "stream",
     "text": [
      "Election Results\n",
      "-------------------------\n",
      "Total Votes: 369711\n",
      "-------------------------\n",
      "Candidate     | Votes Received | Percentage\n",
      "-------------------------\n",
      "Diana DeGette: 272892 (73.812%)\n",
      "Charles Casper Stockham: 85213 (23.049%)\n",
      "Raymon Anthony Doane: 11606 (3.139%)\n",
      "-------------------------\n",
      "Winner: Diana DeGette\n",
      "-------------------------\n"
     ]
    }
   ],
   "source": [
    "print(\"Election Results\")\n",
    "print(\"-------------------------\")\n",
    "print(f\"Total Votes: {total_votes_cast}\")\n",
    "print(\"-------------------------\")\n",
    "print(\"Candidate     | Votes Received | Percentage\")\n",
    "print(\"-------------------------\")\n",
    "for candidate, votes in candidate_votes.items():\n",
    "    print(f\"{candidate}: {votes} ({percentage_votes[candidate]:.3f}%)\")\n",
    "print(\"-------------------------\")\n",
    "print(f\"Winner: {winner}\")\n",
    "print(\"-------------------------\")"
   ]
  },
  {
   "cell_type": "code",
   "execution_count": null,
   "id": "a99f7c6b",
   "metadata": {},
   "outputs": [],
   "source": []
  }
 ],
 "metadata": {
  "kernelspec": {
   "display_name": "Python 3 (ipykernel)",
   "language": "python",
   "name": "python3"
  },
  "language_info": {
   "codemirror_mode": {
    "name": "ipython",
    "version": 3
   },
   "file_extension": ".py",
   "mimetype": "text/x-python",
   "name": "python",
   "nbconvert_exporter": "python",
   "pygments_lexer": "ipython3",
   "version": "3.11.5"
  }
 },
 "nbformat": 4,
 "nbformat_minor": 5
}
