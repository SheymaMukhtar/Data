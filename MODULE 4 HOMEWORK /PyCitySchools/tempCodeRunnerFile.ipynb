passing_math_count = school_data_complete[(school_data_complete["math_score"] >= 70)].count()["student_name"]
passing_math_percentage = passing_math_count / float(student_count) * 100