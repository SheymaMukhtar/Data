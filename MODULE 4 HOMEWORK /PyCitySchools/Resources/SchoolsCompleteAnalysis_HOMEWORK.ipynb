{
 "cells": [
  {
   "cell_type": "code",
   "execution_count": 2,
   "id": "ddd01117-094a-4243-8b56-78f04f8b4df0",
   "metadata": {},
   "outputs": [],
   "source": [
    "import pandas as pd\n",
    "from pathlib import Path"
   ]
  },
  {
   "cell_type": "code",
   "execution_count": 3,
   "id": "d2cfdee7-858e-44ea-a6c7-8da39b7235d2",
   "metadata": {},
   "outputs": [],
   "source": [
    "school_data_to_load = Path(\"schools_complete.csv\")\n",
    "student_data_to_load = Path(\"students_complete.csv\")"
   ]
  },
  {
   "cell_type": "code",
   "execution_count": 4,
   "id": "223ca5f4-852d-42b8-8aec-348cfdd43465",
   "metadata": {},
   "outputs": [],
   "source": [
    "school_data = pd.read_csv(school_data_to_load)\n",
    "student_data = pd.read_csv(student_data_to_load)"
   ]
  },
  {
   "cell_type": "code",
   "execution_count": 5,
   "id": "5bb441e4-04ab-435d-ae95-0ba9e7538086",
   "metadata": {},
   "outputs": [
    {
     "data": {
      "text/html": [
       "<div>\n",
       "<style scoped>\n",
       "    .dataframe tbody tr th:only-of-type {\n",
       "        vertical-align: middle;\n",
       "    }\n",
       "\n",
       "    .dataframe tbody tr th {\n",
       "        vertical-align: top;\n",
       "    }\n",
       "\n",
       "    .dataframe thead th {\n",
       "        text-align: right;\n",
       "    }\n",
       "</style>\n",
       "<table border=\"1\" class=\"dataframe\">\n",
       "  <thead>\n",
       "    <tr style=\"text-align: right;\">\n",
       "      <th></th>\n",
       "      <th>Student ID</th>\n",
       "      <th>student_name</th>\n",
       "      <th>gender</th>\n",
       "      <th>grade</th>\n",
       "      <th>school_name</th>\n",
       "      <th>reading_score</th>\n",
       "      <th>math_score</th>\n",
       "      <th>School ID</th>\n",
       "      <th>type</th>\n",
       "      <th>size</th>\n",
       "      <th>budget</th>\n",
       "    </tr>\n",
       "  </thead>\n",
       "  <tbody>\n",
       "    <tr>\n",
       "      <th>0</th>\n",
       "      <td>0</td>\n",
       "      <td>Paul Bradley</td>\n",
       "      <td>M</td>\n",
       "      <td>9th</td>\n",
       "      <td>Huang High School</td>\n",
       "      <td>66</td>\n",
       "      <td>79</td>\n",
       "      <td>0</td>\n",
       "      <td>District</td>\n",
       "      <td>2917</td>\n",
       "      <td>1910635</td>\n",
       "    </tr>\n",
       "    <tr>\n",
       "      <th>1</th>\n",
       "      <td>1</td>\n",
       "      <td>Victor Smith</td>\n",
       "      <td>M</td>\n",
       "      <td>12th</td>\n",
       "      <td>Huang High School</td>\n",
       "      <td>94</td>\n",
       "      <td>61</td>\n",
       "      <td>0</td>\n",
       "      <td>District</td>\n",
       "      <td>2917</td>\n",
       "      <td>1910635</td>\n",
       "    </tr>\n",
       "    <tr>\n",
       "      <th>2</th>\n",
       "      <td>2</td>\n",
       "      <td>Kevin Rodriguez</td>\n",
       "      <td>M</td>\n",
       "      <td>12th</td>\n",
       "      <td>Huang High School</td>\n",
       "      <td>90</td>\n",
       "      <td>60</td>\n",
       "      <td>0</td>\n",
       "      <td>District</td>\n",
       "      <td>2917</td>\n",
       "      <td>1910635</td>\n",
       "    </tr>\n",
       "    <tr>\n",
       "      <th>3</th>\n",
       "      <td>3</td>\n",
       "      <td>Dr. Richard Scott</td>\n",
       "      <td>M</td>\n",
       "      <td>12th</td>\n",
       "      <td>Huang High School</td>\n",
       "      <td>67</td>\n",
       "      <td>58</td>\n",
       "      <td>0</td>\n",
       "      <td>District</td>\n",
       "      <td>2917</td>\n",
       "      <td>1910635</td>\n",
       "    </tr>\n",
       "    <tr>\n",
       "      <th>4</th>\n",
       "      <td>4</td>\n",
       "      <td>Bonnie Ray</td>\n",
       "      <td>F</td>\n",
       "      <td>9th</td>\n",
       "      <td>Huang High School</td>\n",
       "      <td>97</td>\n",
       "      <td>84</td>\n",
       "      <td>0</td>\n",
       "      <td>District</td>\n",
       "      <td>2917</td>\n",
       "      <td>1910635</td>\n",
       "    </tr>\n",
       "  </tbody>\n",
       "</table>\n",
       "</div>"
      ],
      "text/plain": [
       "   Student ID       student_name gender grade        school_name  \\\n",
       "0           0       Paul Bradley      M   9th  Huang High School   \n",
       "1           1       Victor Smith      M  12th  Huang High School   \n",
       "2           2    Kevin Rodriguez      M  12th  Huang High School   \n",
       "3           3  Dr. Richard Scott      M  12th  Huang High School   \n",
       "4           4         Bonnie Ray      F   9th  Huang High School   \n",
       "\n",
       "   reading_score  math_score  School ID      type  size   budget  \n",
       "0             66          79          0  District  2917  1910635  \n",
       "1             94          61          0  District  2917  1910635  \n",
       "2             90          60          0  District  2917  1910635  \n",
       "3             67          58          0  District  2917  1910635  \n",
       "4             97          84          0  District  2917  1910635  "
      ]
     },
     "execution_count": 5,
     "metadata": {},
     "output_type": "execute_result"
    }
   ],
   "source": [
    "school_data_complete = pd.merge(student_data, school_data, how=\"left\", on=[\"school_name\", \"school_name\"])\n",
    "school_data_complete.head()"
   ]
  },
  {
   "cell_type": "code",
   "execution_count": 6,
   "id": "0b1c68f2-e0f9-4f77-be87-41734c749b48",
   "metadata": {},
   "outputs": [
    {
     "name": "stdout",
     "output_type": "stream",
     "text": [
      "Total number of unique schools: 15\n"
     ]
    }
   ],
   "source": [
    "#Calculate total number of unique schools\n",
    "total_unique_schools = school_data_complete['school_name'].nunique()\n",
    "print(\"Total number of unique schools:\", total_unique_schools)"
   ]
  },
  {
   "cell_type": "code",
   "execution_count": 7,
   "id": "026050b8-431e-4283-9220-412ec339b622",
   "metadata": {},
   "outputs": [
    {
     "name": "stdout",
     "output_type": "stream",
     "text": [
      "Total number of students: 32715\n"
     ]
    }
   ],
   "source": [
    "#Calculate total number of students\n",
    "total_students = school_data_complete['student_name'].nunique()\n",
    "print(\"Total number of students:\", total_students)"
   ]
  },
  {
   "cell_type": "code",
   "execution_count": 8,
   "id": "c02a91bc-731a-4c7e-b19d-2df4fc0eca0f",
   "metadata": {},
   "outputs": [
    {
     "name": "stdout",
     "output_type": "stream",
     "text": [
      "Total budget across all schools: 24649428\n"
     ]
    }
   ],
   "source": [
    "#Calculate total budget\n",
    "total_budget = school_data_complete.groupby('school_name')['budget'].first().sum()\n",
    "print(\"Total budget across all schools:\", total_budget)"
   ]
  },
  {
   "cell_type": "code",
   "execution_count": 9,
   "id": "1ff75d71-0fbb-48c9-b256-c51fb0f4f891",
   "metadata": {},
   "outputs": [
    {
     "name": "stdout",
     "output_type": "stream",
     "text": [
      "Average math score: 78.98537145774827\n"
     ]
    }
   ],
   "source": [
    "#Maths Score Average \n",
    "average_math_score = school_data_complete['math_score'].mean()\n",
    "print(\"Average math score:\", average_math_score)"
   ]
  },
  {
   "cell_type": "code",
   "execution_count": 10,
   "id": "e41a2579-fd9f-4f34-803f-a2d78ae1736c",
   "metadata": {},
   "outputs": [
    {
     "name": "stdout",
     "output_type": "stream",
     "text": [
      "Percentage of students who passed math (score >= 70): 89.77533241632278\n"
     ]
    }
   ],
   "source": [
    "#percentage of maths \n",
    "passing_math_count = school_data_complete[school_data_complete[\"math_score\"] >= 70].count()[\"student_name\"]\n",
    "passing_math_percentage = passing_math_count / float(total_students) * 100\n",
    "print(\"Percentage of students who passed math (score >= 70):\", passing_math_percentage)\n"
   ]
  },
  {
   "cell_type": "code",
   "execution_count": 11,
   "id": "94cf4183-260a-4a48-928b-a88b6c85d4c4",
   "metadata": {},
   "outputs": [
    {
     "name": "stdout",
     "output_type": "stream",
     "text": [
      "Percentage of students who passed reading (score >= 70): 102.73574812777014\n"
     ]
    }
   ],
   "source": [
    "# Calculate the percentage of students who passed reading (reading scores greater than or equal to 70)\n",
    "passing_reading_count = school_data_complete[school_data_complete[\"reading_score\"] >= 70].count()[\"student_name\"]\n",
    "passing_reading_percentage = passing_reading_count / float(total_students) * 100\n",
    "print(\"Percentage of students who passed reading (score >= 70):\", passing_reading_percentage)\n"
   ]
  },
  {
   "cell_type": "code",
   "execution_count": 12,
   "id": "2d9c31fb-9f8e-499b-bd95-f1efada6c1d7",
   "metadata": {},
   "outputs": [
    {
     "name": "stdout",
     "output_type": "stream",
     "text": [
      "Overall Passing Rate (Math and Reading, score >= 70): 78.031484028733\n"
     ]
    }
   ],
   "source": [
    "#overall\n",
    "passing_math_reading_count = school_data_complete[\n",
    "    (school_data_complete[\"math_score\"] >= 70) & (school_data_complete[\"reading_score\"] >= 70)\n",
    "].count()[\"student_name\"]\n",
    "overall_passing_rate = passing_math_reading_count / float(total_students) * 100\n",
    "print(\"Overall Passing Rate (Math and Reading, score >= 70):\", overall_passing_rate)\n"
   ]
  },
  {
   "cell_type": "code",
   "execution_count": 13,
   "id": "421b95f3-7d86-4a10-939b-f061e33250f0",
   "metadata": {},
   "outputs": [
    {
     "data": {
      "text/html": [
       "<div>\n",
       "<style scoped>\n",
       "    .dataframe tbody tr th:only-of-type {\n",
       "        vertical-align: middle;\n",
       "    }\n",
       "\n",
       "    .dataframe tbody tr th {\n",
       "        vertical-align: top;\n",
       "    }\n",
       "\n",
       "    .dataframe thead th {\n",
       "        text-align: right;\n",
       "    }\n",
       "</style>\n",
       "<table border=\"1\" class=\"dataframe\">\n",
       "  <thead>\n",
       "    <tr style=\"text-align: right;\">\n",
       "      <th></th>\n",
       "      <th>overall_passing_rate</th>\n",
       "    </tr>\n",
       "    <tr>\n",
       "      <th>school_name</th>\n",
       "      <th></th>\n",
       "    </tr>\n",
       "  </thead>\n",
       "  <tbody>\n",
       "    <tr>\n",
       "      <th>Pena High School</th>\n",
       "      <td>83.942308</td>\n",
       "    </tr>\n",
       "    <tr>\n",
       "      <th>Wright High School</th>\n",
       "      <td>83.818611</td>\n",
       "    </tr>\n",
       "    <tr>\n",
       "      <th>Holden High School</th>\n",
       "      <td>83.809133</td>\n",
       "    </tr>\n",
       "    <tr>\n",
       "      <th>Thomas High School</th>\n",
       "      <td>83.633639</td>\n",
       "    </tr>\n",
       "    <tr>\n",
       "      <th>Wilson High School</th>\n",
       "      <td>83.631844</td>\n",
       "    </tr>\n",
       "  </tbody>\n",
       "</table>\n",
       "</div>"
      ],
      "text/plain": [
       "                    overall_passing_rate\n",
       "school_name                             \n",
       "Pena High School               83.942308\n",
       "Wright High School             83.818611\n",
       "Holden High School             83.809133\n",
       "Thomas High School             83.633639\n",
       "Wilson High School             83.631844"
      ]
     },
     "execution_count": 13,
     "metadata": {},
     "output_type": "execute_result"
    }
   ],
   "source": [
    "school_data_complete['overall_passing_rate'] = (school_data_complete['math_score'] + school_data_complete['reading_score']) / 2\n",
    "\n",
    "school_overall_passing = school_data_complete.groupby('school_name')['overall_passing_rate'].mean()\n",
    "\n",
    "top_schools = pd.DataFrame(school_overall_passing).sort_values(by='overall_passing_rate', ascending=False)\n",
    "\n",
    "top_schools.head(5)\n"
   ]
  },
  {
   "cell_type": "code",
   "execution_count": 14,
   "id": "4d0c5861",
   "metadata": {},
   "outputs": [
    {
     "data": {
      "text/html": [
       "<div>\n",
       "<style scoped>\n",
       "    .dataframe tbody tr th:only-of-type {\n",
       "        vertical-align: middle;\n",
       "    }\n",
       "\n",
       "    .dataframe tbody tr th {\n",
       "        vertical-align: top;\n",
       "    }\n",
       "\n",
       "    .dataframe thead th {\n",
       "        text-align: right;\n",
       "    }\n",
       "</style>\n",
       "<table border=\"1\" class=\"dataframe\">\n",
       "  <thead>\n",
       "    <tr style=\"text-align: right;\">\n",
       "      <th></th>\n",
       "      <th>overall_passing_rate</th>\n",
       "    </tr>\n",
       "    <tr>\n",
       "      <th>school_name</th>\n",
       "      <th></th>\n",
       "    </tr>\n",
       "  </thead>\n",
       "  <tbody>\n",
       "    <tr>\n",
       "      <th>Rodriguez High School</th>\n",
       "      <td>78.793698</td>\n",
       "    </tr>\n",
       "    <tr>\n",
       "      <th>Huang High School</th>\n",
       "      <td>78.906068</td>\n",
       "    </tr>\n",
       "    <tr>\n",
       "      <th>Ford High School</th>\n",
       "      <td>78.924425</td>\n",
       "    </tr>\n",
       "    <tr>\n",
       "      <th>Figueroa High School</th>\n",
       "      <td>78.934893</td>\n",
       "    </tr>\n",
       "    <tr>\n",
       "      <th>Johnson High School</th>\n",
       "      <td>79.019429</td>\n",
       "    </tr>\n",
       "  </tbody>\n",
       "</table>\n",
       "</div>"
      ],
      "text/plain": [
       "                       overall_passing_rate\n",
       "school_name                                \n",
       "Rodriguez High School             78.793698\n",
       "Huang High School                 78.906068\n",
       "Ford High School                  78.924425\n",
       "Figueroa High School              78.934893\n",
       "Johnson High School               79.019429"
      ]
     },
     "execution_count": 14,
     "metadata": {},
     "output_type": "execute_result"
    }
   ],
   "source": [
    "\n",
    "school_data_complete['overall_passing_rate'] = (school_data_complete['math_score'] + school_data_complete['reading_score']) / 2\n",
    "school_overall_passing = school_data_complete.groupby('school_name')['overall_passing_rate'].mean()\n",
    "bottom_schools = pd.DataFrame(school_overall_passing).sort_values(by='overall_passing_rate', ascending=True)\n",
    "bottom_schools.head(5)\n"
   ]
  },
  {
   "cell_type": "code",
   "execution_count": 15,
   "id": "66d41666",
   "metadata": {},
   "outputs": [
    {
     "name": "stdout",
     "output_type": "stream",
     "text": [
      "Math Scores by Grade:\n",
      "grade                        9th       10th       11th       12th\n",
      "school_name                                                      \n",
      "Bailey High School     77.083676  76.996772  77.515588  76.492218\n",
      "Cabrera High School    83.094697  83.154506  82.765560  83.277487\n",
      "Figueroa High School   76.403037  76.539974  76.884344  77.151369\n",
      "Ford High School       77.361345  77.672316  76.918058  76.179963\n",
      "Griffin High School    82.044010  84.229064  83.842105  83.356164\n",
      "Hernandez High School  77.438495  77.337408  77.136029  77.186567\n",
      "Holden High School     83.787402  83.429825  85.000000  82.855422\n",
      "Huang High School      77.027251  75.908735  76.446602  77.225641\n",
      "Johnson High School    77.187857  76.691117  77.491653  76.863248\n",
      "Pena High School       83.625455  83.372000  84.328125  84.121547\n",
      "Rodriguez High School  76.859966  76.612500  76.395626  77.690748\n",
      "Shelton High School    83.420755  82.917411  83.383495  83.778976\n",
      "Thomas High School     83.590022  83.087886  83.498795  83.497041\n",
      "Wilson High School     83.085578  83.724422  83.195326  83.035794\n",
      "Wright High School     83.264706  84.010288  83.836782  83.644986\n"
     ]
    }
   ],
   "source": [
    "\n",
    "math_scores_by_grade = student_data.groupby(['school_name', 'grade'])['math_score'].mean().unstack()\n",
    "\n",
    "math_scores_by_grade = math_scores_by_grade[['9th', '10th', '11th', '12th']]\n",
    "\n",
    "print(\"Math Scores by Grade:\")\n",
    "print(math_scores_by_grade)\n"
   ]
  },
  {
   "cell_type": "code",
   "execution_count": 16,
   "id": "a1dd64c8",
   "metadata": {},
   "outputs": [
    {
     "name": "stdout",
     "output_type": "stream",
     "text": [
      "\n",
      "Reading Scores by Grade:\n",
      "grade                        9th       10th       11th       12th\n",
      "school_name                                                      \n",
      "Bailey High School     81.303155  80.907183  80.945643  80.912451\n",
      "Cabrera High School    83.676136  84.253219  83.788382  84.287958\n",
      "Figueroa High School   81.198598  81.408912  80.640339  81.384863\n",
      "Ford High School       80.632653  81.262712  80.403642  80.662338\n",
      "Griffin High School    83.369193  83.706897  84.288089  84.013699\n",
      "Hernandez High School  80.866860  80.660147  81.396140  80.857143\n",
      "Holden High School     83.677165  83.324561  83.815534  84.698795\n",
      "Huang High School      81.290284  81.512386  81.417476  80.305983\n",
      "Johnson High School    81.260714  80.773431  80.616027  81.227564\n",
      "Pena High School       83.807273  83.612000  84.335938  84.591160\n",
      "Rodriguez High School  80.993127  80.629808  80.864811  80.376426\n",
      "Shelton High School    84.122642  83.441964  84.373786  82.781671\n",
      "Thomas High School     83.728850  84.254157  83.585542  83.831361\n",
      "Wilson High School     83.939778  84.021452  83.764608  84.317673\n",
      "Wright High School     83.833333  83.812757  84.156322  84.073171\n"
     ]
    }
   ],
   "source": [
    "reading_scores_by_grade = student_data.groupby(['school_name', 'grade'])['reading_score'].mean().unstack()\n",
    "\n",
    "reading_scores_by_grade = reading_scores_by_grade[['9th', '10th', '11th', '12th']]\n",
    "print(\"\\nReading Scores by Grade:\")\n",
    "print(reading_scores_by_grade)"
   ]
  },
  {
   "cell_type": "code",
   "execution_count": 17,
   "id": "68ba2298",
   "metadata": {},
   "outputs": [
    {
     "name": "stdout",
     "output_type": "stream",
     "text": [
      "Percentage of students who passed math (score >= 70): 89.77533241632278\n",
      "Percentage of students who passed reading (score >= 70): 102.73574812777014\n",
      "Overall Passing Rate (Math and Reading, score >= 70): 78.031484028733\n"
     ]
    }
   ],
   "source": [
    "# Calculate the percentage of students who passed math (score >= 70)\n",
    "passing_math_percentage = (passing_math_count / total_students) * 100\n",
    "print(\"Percentage of students who passed math (score >= 70):\", passing_math_percentage)\n",
    "\n",
    "# Calculate the percentage of students who passed reading (score >= 70)\n",
    "passing_reading_percentage = (passing_reading_count / total_students) * 100\n",
    "print(\"Percentage of students who passed reading (score >= 70):\", passing_reading_percentage)\n",
    "\n",
    "# Calculate the percentage of students who passed both math and reading (score >= 70)\n",
    "overall_passing_percentage = (passing_math_reading_count / total_students) * 100\n",
    "print(\"Overall Passing Rate (Math and Reading, score >= 70):\", overall_passing_percentage)\n"
   ]
  },
  {
   "cell_type": "code",
   "execution_count": 20,
   "id": "088fa3db",
   "metadata": {},
   "outputs": [
    {
     "name": "stdout",
     "output_type": "stream",
     "text": [
      "                      School Type  Total Students  Total School Budget  \\\n",
      "school_name                                                              \n",
      "Bailey High School       District            4976            3124928.0   \n",
      "Cabrera High School       Charter            1858            1081356.0   \n",
      "Figueroa High School     District            2949            1884411.0   \n",
      "Ford High School         District            2739            1763916.0   \n",
      "Griffin High School       Charter            1468             917500.0   \n",
      "Hernandez High School    District            4635            3022020.0   \n",
      "Holden High School        Charter             427             248087.0   \n",
      "Huang High School        District            2917            1910635.0   \n",
      "Johnson High School      District            4761            3094650.0   \n",
      "Pena High School          Charter             962             585858.0   \n",
      "Rodriguez High School    District            3999            2547363.0   \n",
      "Shelton High School       Charter            1761            1056600.0   \n",
      "Thomas High School        Charter            1635            1043130.0   \n",
      "Wilson High School        Charter            2283            1319574.0   \n",
      "Wright High School        Charter            1800            1049400.0   \n",
      "\n",
      "                       Per Student Budget  Average Math Score  \\\n",
      "school_name                                                     \n",
      "Bailey High School                  628.0           77.048432   \n",
      "Cabrera High School                 582.0           83.061895   \n",
      "Figueroa High School                639.0           76.711767   \n",
      "Ford High School                    644.0           77.102592   \n",
      "Griffin High School                 625.0           83.351499   \n",
      "Hernandez High School               652.0           77.289752   \n",
      "Holden High School                  581.0           83.803279   \n",
      "Huang High School                   655.0           76.629414   \n",
      "Johnson High School                 650.0           77.072464   \n",
      "Pena High School                    609.0           83.839917   \n",
      "Rodriguez High School               637.0           76.842711   \n",
      "Shelton High School                 600.0           83.359455   \n",
      "Thomas High School                  638.0           83.418349   \n",
      "Wilson High School                  578.0           83.274201   \n",
      "Wright High School                  583.0           83.682222   \n",
      "\n",
      "                       Average Reading Score  % Passing Math  \\\n",
      "school_name                                                    \n",
      "Bailey High School                 81.033963       66.680064   \n",
      "Cabrera High School                83.975780       94.133477   \n",
      "Figueroa High School               81.158020       65.988471   \n",
      "Ford High School                   80.746258       68.309602   \n",
      "Griffin High School                83.816757       93.392371   \n",
      "Hernandez High School              80.934412       66.752967   \n",
      "Holden High School                 83.814988       92.505855   \n",
      "Huang High School                  81.182722       65.683922   \n",
      "Johnson High School                80.966394       66.057551   \n",
      "Pena High School                   84.044699       94.594595   \n",
      "Rodriguez High School              80.744686       66.366592   \n",
      "Shelton High School                83.725724       93.867121   \n",
      "Thomas High School                 83.848930       93.272171   \n",
      "Wilson High School                 83.989488       93.867718   \n",
      "Wright High School                 83.955000       93.333333   \n",
      "\n",
      "                       % Passing Reading  % Overall Passing  \n",
      "school_name                                                  \n",
      "Bailey High School             81.933280          54.642283  \n",
      "Cabrera High School            97.039828          91.334769  \n",
      "Figueroa High School           80.739234          53.204476  \n",
      "Ford High School               79.299014          54.289887  \n",
      "Griffin High School            97.138965          90.599455  \n",
      "Hernandez High School          80.862999          53.527508  \n",
      "Holden High School             96.252927          89.227166  \n",
      "Huang High School              81.316421          53.513884  \n",
      "Johnson High School            81.222432          53.539172  \n",
      "Pena High School               95.945946          90.540541  \n",
      "Rodriguez High School          80.220055          52.988247  \n",
      "Shelton High School            95.854628          89.892107  \n",
      "Thomas High School             97.308869          90.948012  \n",
      "Wilson High School             96.539641          90.582567  \n",
      "Wright High School             96.611111          90.333333  \n"
     ]
    }
   ],
   "source": [
    "#Group by school\n",
    "school_grouped = school_data_complete.groupby('school_name')\n",
    "\n",
    "\n",
    "#Calculate total students in each school\n",
    "total_students_per_school = school_grouped['Student ID'].count()\n",
    "\n",
    "#Calculate total school budget per school\n",
    "total_budget_per_school = school_grouped['budget'].mean()\n",
    "\n",
    "#Calculate per student budget per school\n",
    "per_student_budget_per_school = total_budget_per_school / total_students_per_school\n",
    "\n",
    "#Calculate average math score per school\n",
    "average_math_score_per_school = school_grouped['math_score'].mean()\n",
    "\n",
    "#Calculate average reading score per school\n",
    "average_reading_score_per_school = school_grouped['reading_score'].mean()\n",
    "\n",
    "#Calculate percentage passing math per school\n",
    "passing_math_per_school = school_data_complete[school_data_complete['math_score'] >= 70].groupby('school_name')['Student ID'].count()\n",
    "percent_passing_math_per_school = (passing_math_per_school / total_students_per_school) * 100\n",
    "\n",
    "#Calculate percentage passing reading per school\n",
    "passing_reading_per_school = school_data_complete[school_data_complete['reading_score'] >= 70].groupby('school_name')['Student ID'].count()\n",
    "percent_passing_reading_per_school = (passing_reading_per_school / total_students_per_school) * 100\n",
    "\n",
    "#Calculate percentage passing both math and reading per school\n",
    "passing_both_per_school = school_data_complete[(school_data_complete['math_score'] >= 70) & (school_data_complete['reading_score'] >= 70)].groupby('school_name')['Student ID'].count()\n",
    "percent_passing_both_per_school = (passing_both_per_school / total_students_per_school) * 100\n",
    "\n",
    "#Create DataFrame to summarize key metrics about each school\n",
    "school_summary_df = pd.DataFrame({\n",
    "    'School Type': school_grouped['type'].first(),\n",
    "    'Total Students': total_students_per_school,\n",
    "    'Total School Budget': total_budget_per_school,\n",
    "    'Per Student Budget': per_student_budget_per_school,\n",
    "    'Average Math Score': average_math_score_per_school,\n",
    "    'Average Reading Score': average_reading_score_per_school,\n",
    "    '% Passing Math': percent_passing_math_per_school,\n",
    "    '% Passing Reading': percent_passing_reading_per_school,\n",
    "    '% Overall Passing': percent_passing_both_per_school\n",
    "})\n",
    "\n",
    "# Display the DataFrame\n",
    "print(school_summary_df)\n"
   ]
  },
  {
   "cell_type": "code",
   "execution_count": 21,
   "id": "3bf17f83",
   "metadata": {},
   "outputs": [
    {
     "name": "stdout",
     "output_type": "stream",
     "text": [
      "Top Performing Schools (by % Overall Passing):\n",
      "                    School Type  Total Students  Total School Budget  \\\n",
      "school_name                                                            \n",
      "Cabrera High School     Charter            1858            1081356.0   \n",
      "Thomas High School      Charter            1635            1043130.0   \n",
      "Griffin High School     Charter            1468             917500.0   \n",
      "Wilson High School      Charter            2283            1319574.0   \n",
      "Pena High School        Charter             962             585858.0   \n",
      "\n",
      "                     Per Student Budget  Average Math Score  \\\n",
      "school_name                                                   \n",
      "Cabrera High School               582.0           83.061895   \n",
      "Thomas High School                638.0           83.418349   \n",
      "Griffin High School               625.0           83.351499   \n",
      "Wilson High School                578.0           83.274201   \n",
      "Pena High School                  609.0           83.839917   \n",
      "\n",
      "                     Average Reading Score  % Passing Math  % Passing Reading  \\\n",
      "school_name                                                                     \n",
      "Cabrera High School              83.975780       94.133477          97.039828   \n",
      "Thomas High School               83.848930       93.272171          97.308869   \n",
      "Griffin High School              83.816757       93.392371          97.138965   \n",
      "Wilson High School               83.989488       93.867718          96.539641   \n",
      "Pena High School                 84.044699       94.594595          95.945946   \n",
      "\n",
      "                     % Overall Passing  \n",
      "school_name                             \n",
      "Cabrera High School          91.334769  \n",
      "Thomas High School           90.948012  \n",
      "Griffin High School          90.599455  \n",
      "Wilson High School           90.582567  \n",
      "Pena High School             90.540541  \n"
     ]
    }
   ],
   "source": [
    "#DATA SORT\n",
    "top_schools = school_summary_df.sort_values(by='% Overall Passing', ascending=False).head(5)\n",
    "\n",
    "#top performing schools\n",
    "print(\"Top Performing Schools (by % Overall Passing):\")\n",
    "print(top_schools)\n"
   ]
  },
  {
   "cell_type": "code",
   "execution_count": 23,
   "id": "66470a67",
   "metadata": {},
   "outputs": [
    {
     "name": "stdout",
     "output_type": "stream",
     "text": [
      "Lowest Performing Schools (by % Overall Passing):\n",
      "                      School Type  Total Students  Total School Budget  \\\n",
      "school_name                                                              \n",
      "Rodriguez High School    District            3999            2547363.0   \n",
      "Figueroa High School     District            2949            1884411.0   \n",
      "Huang High School        District            2917            1910635.0   \n",
      "Hernandez High School    District            4635            3022020.0   \n",
      "Johnson High School      District            4761            3094650.0   \n",
      "\n",
      "                       Per Student Budget  Average Math Score  \\\n",
      "school_name                                                     \n",
      "Rodriguez High School               637.0           76.842711   \n",
      "Figueroa High School                639.0           76.711767   \n",
      "Huang High School                   655.0           76.629414   \n",
      "Hernandez High School               652.0           77.289752   \n",
      "Johnson High School                 650.0           77.072464   \n",
      "\n",
      "                       Average Reading Score  % Passing Math  \\\n",
      "school_name                                                    \n",
      "Rodriguez High School              80.744686       66.366592   \n",
      "Figueroa High School               81.158020       65.988471   \n",
      "Huang High School                  81.182722       65.683922   \n",
      "Hernandez High School              80.934412       66.752967   \n",
      "Johnson High School                80.966394       66.057551   \n",
      "\n",
      "                       % Passing Reading  % Overall Passing  \n",
      "school_name                                                  \n",
      "Rodriguez High School          80.220055          52.988247  \n",
      "Figueroa High School           80.739234          53.204476  \n",
      "Huang High School              81.316421          53.513884  \n",
      "Hernandez High School          80.862999          53.527508  \n",
      "Johnson High School            81.222432          53.539172  \n"
     ]
    }
   ],
   "source": [
    "\n",
    "bottom_schools = school_summary_df.sort_values(by='% Overall Passing', ascending=True).head(5)\n",
    "\n",
    "\n",
    "print(\"Lowest Performing Schools (by % Overall Passing):\")\n",
    "print(bottom_schools)\n"
   ]
  },
  {
   "cell_type": "code",
   "execution_count": 24,
   "id": "1afb60f7",
   "metadata": {},
   "outputs": [
    {
     "name": "stdout",
     "output_type": "stream",
     "text": [
      "Math Scores by Grade:\n",
      "grade                        9th       10th       11th       12th\n",
      "school_name                                                      \n",
      "Bailey High School     77.083676  76.996772  77.515588  76.492218\n",
      "Cabrera High School    83.094697  83.154506  82.765560  83.277487\n",
      "Figueroa High School   76.403037  76.539974  76.884344  77.151369\n",
      "Ford High School       77.361345  77.672316  76.918058  76.179963\n",
      "Griffin High School    82.044010  84.229064  83.842105  83.356164\n",
      "Hernandez High School  77.438495  77.337408  77.136029  77.186567\n",
      "Holden High School     83.787402  83.429825  85.000000  82.855422\n",
      "Huang High School      77.027251  75.908735  76.446602  77.225641\n",
      "Johnson High School    77.187857  76.691117  77.491653  76.863248\n",
      "Pena High School       83.625455  83.372000  84.328125  84.121547\n",
      "Rodriguez High School  76.859966  76.612500  76.395626  77.690748\n",
      "Shelton High School    83.420755  82.917411  83.383495  83.778976\n",
      "Thomas High School     83.590022  83.087886  83.498795  83.497041\n",
      "Wilson High School     83.085578  83.724422  83.195326  83.035794\n",
      "Wright High School     83.264706  84.010288  83.836782  83.644986\n",
      "\n",
      "Reading Scores by Grade:\n",
      "grade                        9th       10th       11th       12th\n",
      "school_name                                                      \n",
      "Bailey High School     81.303155  80.907183  80.945643  80.912451\n",
      "Cabrera High School    83.676136  84.253219  83.788382  84.287958\n",
      "Figueroa High School   81.198598  81.408912  80.640339  81.384863\n",
      "Ford High School       80.632653  81.262712  80.403642  80.662338\n",
      "Griffin High School    83.369193  83.706897  84.288089  84.013699\n",
      "Hernandez High School  80.866860  80.660147  81.396140  80.857143\n",
      "Holden High School     83.677165  83.324561  83.815534  84.698795\n",
      "Huang High School      81.290284  81.512386  81.417476  80.305983\n",
      "Johnson High School    81.260714  80.773431  80.616027  81.227564\n",
      "Pena High School       83.807273  83.612000  84.335938  84.591160\n",
      "Rodriguez High School  80.993127  80.629808  80.864811  80.376426\n",
      "Shelton High School    84.122642  83.441964  84.373786  82.781671\n",
      "Thomas High School     83.728850  84.254157  83.585542  83.831361\n",
      "Wilson High School     83.939778  84.021452  83.764608  84.317673\n",
      "Wright High School     83.833333  83.812757  84.156322  84.073171\n"
     ]
    }
   ],
   "source": [
    "#math\n",
    "math_scores_by_grade = school_data_complete.pivot_table(values='math_score', index='school_name', columns='grade', aggfunc='mean')[['9th', '10th', '11th', '12th']]\n",
    "print(\"Math Scores by Grade:\")\n",
    "print(math_scores_by_grade)\n",
    "\n",
    "#english/reading\n",
    "reading_scores_by_grade = school_data_complete.pivot_table(values='reading_score', index='school_name', columns='grade', aggfunc='mean')[['9th', '10th', '11th', '12th']]\n",
    "print(\"\\nReading Scores by Grade:\")\n",
    "print(reading_scores_by_grade)\n"
   ]
  },
  {
   "cell_type": "code",
   "execution_count": 26,
   "id": "a6d4694b",
   "metadata": {},
   "outputs": [
    {
     "name": "stdout",
     "output_type": "stream",
     "text": [
      "Scores by School Spending:\n",
      "                               Average Math Score  Average Reading Score  \\\n",
      "Spending Ranges (Per Student)                                              \n",
      "<$585                                   83.455399              83.933814   \n",
      "$585-630                                81.899826              83.155286   \n",
      "$630-645                                78.518855              81.624473   \n",
      "$645-680                                76.997210              81.027843   \n",
      "\n",
      "                               % Passing Math  % Passing Reading  \\\n",
      "Spending Ranges (Per Student)                                      \n",
      "<$585                               93.460096          96.610877   \n",
      "$585-630                            87.133538          92.718205   \n",
      "$630-645                            73.484209          84.391793   \n",
      "$645-680                            66.164813          81.133951   \n",
      "\n",
      "                               % Overall Passing  \n",
      "Spending Ranges (Per Student)                     \n",
      "<$585                                  90.369459  \n",
      "$585-630                               81.418596  \n",
      "$630-645                               62.857656  \n",
      "$645-680                               53.526855  \n"
     ]
    }
   ],
   "source": [
    "spending_bins = [0, 585, 630, 645, 680]\n",
    "group_names = [\"<$585\", \"$585-630\", \"$630-645\", \"$645-680\"]\n",
    "\n",
    "\n",
    "school_summary_df['Spending Ranges (Per Student)'] = pd.cut(school_summary_df['Per Student Budget'], spending_bins, labels=group_names)\n",
    "\n",
    "avg_math_score_spending = school_summary_df.groupby('Spending Ranges (Per Student)')['Average Math Score'].mean()\n",
    "\n",
    "avg_reading_score_spending = school_summary_df.groupby('Spending Ranges (Per Student)')['Average Reading Score'].mean()\n",
    "\n",
    "\n",
    "percent_passing_math_spending = school_summary_df.groupby('Spending Ranges (Per Student)')['% Passing Math'].mean()\n",
    "\n",
    "\n",
    "percent_passing_reading_spending = school_summary_df.groupby('Spending Ranges (Per Student)')['% Passing Reading'].mean()\n",
    "\n",
    "\n",
    "percent_passing_overall_spending = school_summary_df.groupby('Spending Ranges (Per Student)')['% Overall Passing'].mean()\n",
    "\n",
    "\n",
    "scores_by_spending = pd.DataFrame({\n",
    "    'Average Math Score': avg_math_score_spending,\n",
    "    'Average Reading Score': avg_reading_score_spending,\n",
    "    '% Passing Math': percent_passing_math_spending,\n",
    "    '% Passing Reading': percent_passing_reading_spending,\n",
    "    '% Overall Passing': percent_passing_overall_spending\n",
    "})\n",
    "\n",
    "# Display the table\n",
    "print(\"Scores by School Spending:\")\n",
    "print(scores_by_spending)\n"
   ]
  },
  {
   "cell_type": "code",
   "execution_count": 28,
   "id": "4c434fd3",
   "metadata": {},
   "outputs": [
    {
     "name": "stdout",
     "output_type": "stream",
     "text": [
      "Scores by School Spending:\n",
      "                               Average Math Score  Average Reading Score  \\\n",
      "Spending Ranges (Per Student)                                              \n",
      "<$585                                   83.455399              83.933814   \n",
      "$585-630                                81.899826              83.155286   \n",
      "$630-645                                78.518855              81.624473   \n",
      "$645-680                                76.997210              81.027843   \n",
      "\n",
      "                               % Passing Math  % Passing Reading  \\\n",
      "Spending Ranges (Per Student)                                      \n",
      "<$585                               93.460096          96.610877   \n",
      "$585-630                            87.133538          92.718205   \n",
      "$630-645                            73.484209          84.391793   \n",
      "$645-680                            66.164813          81.133951   \n",
      "\n",
      "                               % Overall Passing  \n",
      "Spending Ranges (Per Student)                     \n",
      "<$585                                  90.369459  \n",
      "$585-630                               81.418596  \n",
      "$630-645                               62.857656  \n",
      "$645-680                               53.526855  \n"
     ]
    }
   ],
   "source": [
    "#PD CUT\n",
    "spending_bins = [0, 585, 630, 645, 680]\n",
    "group_names = [\"<$585\", \"$585-630\", \"$630-645\", \"$645-680\"]\n",
    "\n",
    "school_summary_df['Spending Ranges (Per Student)'] = pd.cut(school_summary_df['Per Student Budget'], bins=spending_bins, labels=group_names, include_lowest=True)\n",
    "\n",
    "scores_by_spending = school_summary_df.groupby('Spending Ranges (Per Student)').agg({\n",
    "    'Average Math Score': 'mean',\n",
    "    'Average Reading Score': 'mean',\n",
    "    '% Passing Math': 'mean',\n",
    "    '% Passing Reading': 'mean',\n",
    "    '% Overall Passing': 'mean'\n",
    "})\n",
    "\n",
    "print(\"Scores by School Spending:\")\n",
    "print(scores_by_spending)\n"
   ]
  },
  {
   "cell_type": "code",
   "execution_count": 31,
   "id": "9ba17cda",
   "metadata": {},
   "outputs": [
    {
     "name": "stdout",
     "output_type": "stream",
     "text": [
      "Size Summary:\n",
      "                    Average Math Score  Average Reading Score  % Passing Math  \\\n",
      "School Size                                                                     \n",
      "Small (<1000)                83.821598              83.929843       93.550225   \n",
      "Medium (1000-2000)           83.374684              83.864438       93.599695   \n",
      "Large (2000-5000)            77.746417              81.344493       69.963361   \n",
      "\n",
      "                    % Passing Reading  % Overall Passing  \n",
      "School Size                                               \n",
      "Small (<1000)               96.099437          89.883853  \n",
      "Medium (1000-2000)          96.790680          90.621535  \n",
      "Large (2000-5000)           82.766634          58.286003  \n",
      "Type Summary:\n",
      "             Average Math Score  Average Reading Score  % Passing Math  \\\n",
      "School Type                                                              \n",
      "Charter               83.473852              83.896421       93.620830   \n",
      "District              76.956733              80.966636       66.548453   \n",
      "\n",
      "             % Passing Reading  % Overall Passing  \n",
      "School Type                                        \n",
      "Charter              96.586489          90.432244  \n",
      "District             80.799062          53.672208  \n"
     ]
    }
   ],
   "source": [
    "size_bins = [0, 1000, 2000, 5000]\n",
    "size_labels = [\"Small (<1000)\", \"Medium (1000-2000)\", \"Large (2000-5000)\"]\n",
    "school_summary_df['School Size'] = pd.cut(school_summary_df['Total Students'], bins=size_bins, labels=size_labels)\n",
    "size_summary = school_summary_df.groupby('School Size').agg({\n",
    "    'Average Math Score': 'mean',\n",
    "    'Average Reading Score': 'mean',\n",
    "    '% Passing Math': 'mean',\n",
    "    '% Passing Reading': 'mean',\n",
    "    '% Overall Passing': 'mean'\n",
    "})\n",
    "\n",
    "\n",
    "print(\"Size Summary:\")\n",
    "print(size_summary)\n",
    "\n",
    "type_summary = school_summary_df.groupby('School Type').agg({\n",
    "    'Average Math Score': 'mean',\n",
    "    'Average Reading Score': 'mean',\n",
    "    '% Passing Math': 'mean',\n",
    "    '% Passing Reading': 'mean',\n",
    "    '% Overall Passing': 'mean'\n",
    "})\n",
    "\n",
    "print(\"Type Summary:\")\n",
    "print(type_summary)\n"
   ]
  },
  {
   "cell_type": "code",
   "execution_count": null,
   "id": "50cb05ba",
   "metadata": {},
   "outputs": [],
   "source": []
  }
 ],
 "metadata": {
  "kernelspec": {
   "display_name": "Python 3 (ipykernel)",
   "language": "python",
   "name": "python3"
  },
  "language_info": {
   "codemirror_mode": {
    "name": "ipython",
    "version": 3
   },
   "file_extension": ".py",
   "mimetype": "text/x-python",
   "name": "python",
   "nbconvert_exporter": "python",
   "pygments_lexer": "ipython3",
   "version": "3.11.5"
  }
 },
 "nbformat": 4,
 "nbformat_minor": 5
}
