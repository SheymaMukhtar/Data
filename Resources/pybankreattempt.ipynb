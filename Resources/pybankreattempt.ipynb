{
 "cells": [
  {
   "cell_type": "code",
   "execution_count": 7,
   "id": "b78dc941",
   "metadata": {},
   "outputs": [
    {
     "data": {
      "text/html": [
       "<div>\n",
       "<style scoped>\n",
       "    .dataframe tbody tr th:only-of-type {\n",
       "        vertical-align: middle;\n",
       "    }\n",
       "\n",
       "    .dataframe tbody tr th {\n",
       "        vertical-align: top;\n",
       "    }\n",
       "\n",
       "    .dataframe thead th {\n",
       "        text-align: right;\n",
       "    }\n",
       "</style>\n",
       "<table border=\"1\" class=\"dataframe\">\n",
       "  <thead>\n",
       "    <tr style=\"text-align: right;\">\n",
       "      <th></th>\n",
       "      <th>Date</th>\n",
       "      <th>Profit/Losses</th>\n",
       "    </tr>\n",
       "  </thead>\n",
       "  <tbody>\n",
       "    <tr>\n",
       "      <th>0</th>\n",
       "      <td>Jan-10</td>\n",
       "      <td>1088983</td>\n",
       "    </tr>\n",
       "    <tr>\n",
       "      <th>1</th>\n",
       "      <td>Feb-10</td>\n",
       "      <td>-354534</td>\n",
       "    </tr>\n",
       "    <tr>\n",
       "      <th>2</th>\n",
       "      <td>Mar-10</td>\n",
       "      <td>276622</td>\n",
       "    </tr>\n",
       "    <tr>\n",
       "      <th>3</th>\n",
       "      <td>Apr-10</td>\n",
       "      <td>-728133</td>\n",
       "    </tr>\n",
       "    <tr>\n",
       "      <th>4</th>\n",
       "      <td>May-10</td>\n",
       "      <td>852993</td>\n",
       "    </tr>\n",
       "    <tr>\n",
       "      <th>...</th>\n",
       "      <td>...</td>\n",
       "      <td>...</td>\n",
       "    </tr>\n",
       "    <tr>\n",
       "      <th>81</th>\n",
       "      <td>Oct-16</td>\n",
       "      <td>-729004</td>\n",
       "    </tr>\n",
       "    <tr>\n",
       "      <th>82</th>\n",
       "      <td>Nov-16</td>\n",
       "      <td>-112209</td>\n",
       "    </tr>\n",
       "    <tr>\n",
       "      <th>83</th>\n",
       "      <td>Dec-16</td>\n",
       "      <td>516313</td>\n",
       "    </tr>\n",
       "    <tr>\n",
       "      <th>84</th>\n",
       "      <td>Jan-17</td>\n",
       "      <td>607208</td>\n",
       "    </tr>\n",
       "    <tr>\n",
       "      <th>85</th>\n",
       "      <td>Feb-17</td>\n",
       "      <td>382539</td>\n",
       "    </tr>\n",
       "  </tbody>\n",
       "</table>\n",
       "<p>86 rows × 2 columns</p>\n",
       "</div>"
      ],
      "text/plain": [
       "      Date  Profit/Losses\n",
       "0   Jan-10        1088983\n",
       "1   Feb-10        -354534\n",
       "2   Mar-10         276622\n",
       "3   Apr-10        -728133\n",
       "4   May-10         852993\n",
       "..     ...            ...\n",
       "81  Oct-16        -729004\n",
       "82  Nov-16        -112209\n",
       "83  Dec-16         516313\n",
       "84  Jan-17         607208\n",
       "85  Feb-17         382539\n",
       "\n",
       "[86 rows x 2 columns]"
      ]
     },
     "execution_count": 7,
     "metadata": {},
     "output_type": "execute_result"
    }
   ],
   "source": [
    "import pandas as pd\n",
    "\n",
    "# Read the CSV file into a DataFrame\n",
    "df = pd.read_csv(\"budget_data.csv\")\n",
    "\n",
    "# Display the DataFrame\n",
    "df\n"
   ]
  },
  {
   "cell_type": "code",
   "execution_count": 8,
   "id": "6eb0bccb",
   "metadata": {},
   "outputs": [
    {
     "name": "stdout",
     "output_type": "stream",
     "text": [
      "Total number of months: 86\n"
     ]
    }
   ],
   "source": [
    "# Calculate the total number of months\n",
    "total_months = len(df)\n",
    "\n",
    "print(\"Total number of months:\", total_months)"
   ]
  },
  {
   "cell_type": "code",
   "execution_count": 9,
   "id": "614e4610",
   "metadata": {},
   "outputs": [
    {
     "name": "stdout",
     "output_type": "stream",
     "text": [
      "Net total amount of Profit/Losses: 22564198\n"
     ]
    }
   ],
   "source": [
    "# Calculate the net total amount of \"Profit/Losses\"\n",
    "net_profit_losses = df[\"Profit/Losses\"].sum()\n",
    "\n",
    "print(\"Net total amount of Profit/Losses:\", net_profit_losses)"
   ]
  },
  {
   "cell_type": "code",
   "execution_count": 10,
   "id": "269b3896",
   "metadata": {},
   "outputs": [
    {
     "name": "stdout",
     "output_type": "stream",
     "text": [
      "Changes in Profit/Losses over the entire period: 0           NaN\n",
      "1    -1443517.0\n",
      "2      631156.0\n",
      "3    -1004755.0\n",
      "4     1581126.0\n",
      "        ...    \n",
      "81   -1627245.0\n",
      "82     616795.0\n",
      "83     628522.0\n",
      "84      90895.0\n",
      "85    -224669.0\n",
      "Name: Profit/Losses, Length: 86, dtype: float64\n",
      "Average of the changes: -8311.105882352942\n"
     ]
    }
   ],
   "source": [
    "\n",
    "changes = df[\"Profit/Losses\"].diff()\n",
    "\n",
    "\n",
    "average_change = changes.mean()\n",
    "\n",
    "print(\"Changes in Profit/Losses over the entire period:\", changes)\n",
    "print(\"Average of the changes:\", average_change)"
   ]
  },
  {
   "cell_type": "code",
   "execution_count": 11,
   "id": "c6d3481a",
   "metadata": {},
   "outputs": [
    {
     "name": "stdout",
     "output_type": "stream",
     "text": [
      "Greatest increase in profits:\n",
      "Date: Aug-16\n",
      "Amount: 1862002.0\n",
      "\n",
      "Greatest decrease in profits:\n",
      "Date: Feb-14\n",
      "Amount: -1825558.0\n"
     ]
    }
   ],
   "source": [
    "\n",
    "changes = df[\"Profit/Losses\"].diff()\n",
    "\n",
    "\n",
    "greatest_increase = changes.max()\n",
    "greatest_decrease = changes.min()\n",
    "\n",
    "\n",
    "date_of_greatest_increase = df.loc[changes.idxmax(), \"Date\"]\n",
    "date_of_greatest_decrease = df.loc[changes.idxmin(), \"Date\"]\n",
    "\n",
    "print(\"Greatest increase in profits:\")\n",
    "print(\"Date:\", date_of_greatest_increase)\n",
    "print(\"Amount:\", greatest_increase)\n",
    "\n",
    "print(\"\\nGreatest decrease in profits:\")\n",
    "print(\"Date:\", date_of_greatest_decrease)\n",
    "print(\"Amount:\", greatest_decrease)"
   ]
  },
  {
   "cell_type": "code",
   "execution_count": 12,
   "id": "2934af2e",
   "metadata": {},
   "outputs": [
    {
     "name": "stdout",
     "output_type": "stream",
     "text": [
      "Financial Analysis\n",
      "-----------------------------------\n",
      "Total Months: 86\n",
      "Total: $22564198\n",
      "Average Change: $-8311.11\n",
      "Greatest Increase in Profits: Aug-16 ($1862002.0)\n",
      "Greatest Decrease in Profits: Feb-14 ($-1825558.0)\n"
     ]
    }
   ],
   "source": [
    "print(\"Financial Analysis\")\n",
    "print(\"-----------------------------------\")\n",
    "print(f\"Total Months: {len(df)}\")\n",
    "print(f\"Total: ${net_profit_losses}\")\n",
    "print(f\"Average Change: ${average_change:.2f}\")\n",
    "print(f\"Greatest Increase in Profits: {date_of_greatest_increase} (${greatest_increase})\")\n",
    "print(f\"Greatest Decrease in Profits: {date_of_greatest_decrease} (${greatest_decrease})\")\n"
   ]
  },
  {
   "cell_type": "code",
   "execution_count": null,
   "id": "9078d390",
   "metadata": {},
   "outputs": [],
   "source": []
  },
  {
   "cell_type": "code",
   "execution_count": null,
   "id": "a7ca7a5b",
   "metadata": {},
   "outputs": [],
   "source": []
  },
  {
   "cell_type": "code",
   "execution_count": null,
   "id": "956cbbe7",
   "metadata": {},
   "outputs": [],
   "source": []
  },
  {
   "cell_type": "code",
   "execution_count": null,
   "id": "c5b62ff4",
   "metadata": {},
   "outputs": [],
   "source": []
  }
 ],
 "metadata": {
  "kernelspec": {
   "display_name": "Python 3 (ipykernel)",
   "language": "python",
   "name": "python3"
  },
  "language_info": {
   "codemirror_mode": {
    "name": "ipython",
    "version": 3
   },
   "file_extension": ".py",
   "mimetype": "text/x-python",
   "name": "python",
   "nbconvert_exporter": "python",
   "pygments_lexer": "ipython3",
   "version": "3.11.5"
  }
 },
 "nbformat": 4,
 "nbformat_minor": 5
}
